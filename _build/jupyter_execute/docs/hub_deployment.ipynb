{
 "cells": [
  {
   "cell_type": "markdown",
   "id": "cde6847d",
   "metadata": {},
   "source": [
    "# Hub Deployment Information\n",
    "\n",
    "## InfoBlox\n",
    "  We use a SPA to control access to the DNS records for cal-icor. In order to login do the following:\n",
    "  1. Visit https://infoblox.net.berkeley.edu\n",
    "  2. Use SSO Login\n",
    "  3. Enter your CalNet credentials with a **+ before your username (+CalNetID)**\n",
    "  4. Choose the SPA account **spa-ddi-calicor**"
   ]
  }
 ],
 "metadata": {
  "jupytext": {
   "text_representation": {
    "extension": ".md",
    "format_name": "myst"
   }
  },
  "kernelspec": {
   "display_name": "Python 3",
   "language": "python",
   "name": "python3"
  },
  "source_map": [
   10
  ]
 },
 "nbformat": 4,
 "nbformat_minor": 5
}