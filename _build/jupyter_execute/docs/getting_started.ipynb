{
 "cells": [
  {
   "cell_type": "markdown",
   "id": "1aa92c08",
   "metadata": {},
   "source": [
    "(getting_started)=\n",
    "\n",
    "# Getting Started"
   ]
  }
 ],
 "metadata": {
  "jupytext": {
   "text_representation": {
    "extension": ".md",
    "format_name": "myst"
   }
  },
  "kernelspec": {
   "display_name": "Python 3",
   "language": "python",
   "name": "python3"
  },
  "source_map": [
   10
  ]
 },
 "nbformat": 4,
 "nbformat_minor": 5
}