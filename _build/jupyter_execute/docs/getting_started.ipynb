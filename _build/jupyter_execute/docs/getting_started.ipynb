{
 "cells": [
  {
   "cell_type": "markdown",
   "id": "98794b28",
   "metadata": {},
   "source": [
    "(getting_started)=\n",
    "\n",
    "# Getting Started\n",
    "\n",
    "\n",
    "## Jupyterhub\n",
    "Your institution will have a hub dedicated at an address that will look like this:\n",
    "- \\<institution\\>.jupyter.cal-icor.org"
   ]
  }
 ],
 "metadata": {
  "jupytext": {
   "text_representation": {
    "extension": ".md",
    "format_name": "myst"
   }
  },
  "kernelspec": {
   "display_name": "Python 3",
   "language": "python",
   "name": "python3"
  },
  "source_map": [
   10
  ]
 },
 "nbformat": 4,
 "nbformat_minor": 5
}